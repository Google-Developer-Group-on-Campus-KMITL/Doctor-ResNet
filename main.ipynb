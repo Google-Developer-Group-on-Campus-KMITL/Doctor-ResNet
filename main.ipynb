{
  "cells": [
    {
      "cell_type": "markdown",
      "id": "4ad0097e",
      "metadata": {
        "id": "4ad0097e"
      },
      "source": [
        "# Pneumonia Detection with ResNet and CheXpert\n",
        "\n",
        "In this notebook, we'll use TensorFlow and Keras to build a pneumonia classifier using a ResNet-like model on a subset of the CheXpert dataset (simulated using the Kaggle Chest X-ray dataset)."
      ]
    },
    {
      "cell_type": "code",
      "execution_count": null,
      "id": "RNMtfysUVyLn",
      "metadata": {
        "id": "RNMtfysUVyLn"
      },
      "outputs": [],
      "source": [
        "!pip install -q gdown\n",
        "!gdown 100vev6txE-xbjWxP8k7nFqouTU8gAyyp\n",
        "!unzip -qq data.zip"
      ]
    },
    {
      "cell_type": "code",
      "execution_count": null,
      "id": "4272ac95",
      "metadata": {
        "id": "4272ac95"
      },
      "outputs": [],
      "source": [
        "import os\n",
        "import numpy as np\n",
        "import tensorflow as tf\n",
        "import matplotlib.pyplot as plt\n",
        "\n",
        "from tensorflow.keras.models import Model\n",
        "from tensorflow.keras.optimizers import Adam\n",
        "from tensorflow.keras.applications import ResNet50\n",
        "from tensorflow.keras.callbacks import EarlyStopping\n",
        "from tensorflow.keras.layers import Dense, GlobalAveragePooling2D\n",
        "from tensorflow.keras.preprocessing.image import ImageDataGenerator\n",
        "\n",
        "from sklearn.metrics import confusion_matrix, ConfusionMatrixDisplay"
      ]
    },
    {
      "cell_type": "markdown",
      "id": "f930c2eb",
      "metadata": {
        "id": "f930c2eb"
      },
      "source": [
        "## Load and Preprocess the Dataset"
      ]
    },
    {
      "cell_type": "markdown",
      "id": "d15cfa8e",
      "metadata": {},
      "source": [
        "### Add some augmentation to the images for better result"
      ]
    },
    {
      "cell_type": "code",
      "execution_count": null,
      "id": "954fd810",
      "metadata": {
        "id": "954fd810"
      },
      "outputs": [],
      "source": [
        "# Define paths\n",
        "train_dir = 'data/train'\n",
        "val_dir = 'data/val'\n",
        "\n",
        "# Image generators (Fine tuned to X-Ray images)\n",
        "train_datagen = ImageDataGenerator(\n",
        "    rescale=1./255,\n",
        "    rotation_range=15,\n",
        "    width_shift_range=0.1,\n",
        "    height_shift_range=0.1,\n",
        "    shear_range=0.01,\n",
        "    zoom_range=0.1,\n",
        "    horizontal_flip=True,\n",
        "    fill_mode='nearest'\n",
        ")\n",
        "\n",
        "val_datagen = ImageDataGenerator(rescale=1./255)\n",
        "\n",
        "# Load data\n",
        "train_generator = train_datagen.flow_from_directory(\n",
        "    train_dir,\n",
        "    target_size=(224, 224),\n",
        "    batch_size=16,\n",
        "    class_mode='categorical'\n",
        ")\n",
        "\n",
        "val_generator = val_datagen.flow_from_directory(\n",
        "    val_dir,\n",
        "    target_size=(224, 224),\n",
        "    batch_size=16,\n",
        "    class_mode='categorical',\n",
        "    shuffle=False\n",
        ")\n",
        "\n",
        "class_names = list(train_generator.class_indices.keys())\n",
        "print(f\"Classes: {class_names}\")"
      ]
    },
    {
      "cell_type": "markdown",
      "id": "b5d6b97b",
      "metadata": {},
      "source": [
        "### Visualization of the augmented images"
      ]
    },
    {
      "cell_type": "code",
      "execution_count": null,
      "id": "d8b52403",
      "metadata": {},
      "outputs": [],
      "source": [
        "images, labels = next(train_generator)\n",
        "\n",
        "# Plot the first 8 images in the batch\n",
        "plt.figure(figsize=(12, 6))\n",
        "for i in range(8):\n",
        "    ax = plt.subplot(2, 4, i + 1)\n",
        "    plt.imshow(images[i], cmap='gray')\n",
        "    label_index = np.argmax(labels[i])\n",
        "    plt.title(class_names[label_index])\n",
        "    plt.axis('off')\n",
        "\n",
        "plt.tight_layout()\n",
        "plt.show()"
      ]
    },
    {
      "cell_type": "code",
      "execution_count": null,
      "id": "yTlMI-ajl7gh",
      "metadata": {
        "id": "yTlMI-ajl7gh"
      },
      "outputs": [],
      "source": [
        "from sklearn.utils import class_weight\n",
        "\n",
        "class_weights = class_weight.compute_class_weight(\n",
        "    class_weight='balanced',\n",
        "    classes=np.unique(train_generator.classes),\n",
        "    y=train_generator.classes\n",
        ")\n",
        "\n",
        "class_weight_dict = dict(enumerate(class_weights))\n",
        "print(\"Class Weights:\", class_weight_dict)"
      ]
    },
    {
      "cell_type": "markdown",
      "id": "40d97109",
      "metadata": {
        "id": "40d97109"
      },
      "source": [
        "## Build and Compile the Model"
      ]
    },
    {
      "cell_type": "code",
      "execution_count": null,
      "id": "146a9ba7",
      "metadata": {
        "id": "146a9ba7"
      },
      "outputs": [],
      "source": [
        "# Load base model\n",
        "base_model = ResNet50(weights='imagenet', include_top=False, input_shape=(224, 224, 3))\n",
        "base_model.trainable = True\n",
        "\n",
        "# Fine-tune last few layers\n",
        "for layer in base_model.layers[:-40]:  # Keep earlier layers frozen\n",
        "    layer.trainable = False\n",
        "\n",
        "# Add custom head\n",
        "x = base_model.output\n",
        "x = GlobalAveragePooling2D()(x)\n",
        "predictions = Dense(2, activation='softmax')(x)\n",
        "model = Model(inputs=base_model.input, outputs=predictions)\n",
        "\n",
        "# Compile\n",
        "model.compile(optimizer=Adam(learning_rate=1e-5), loss='categorical_crossentropy', metrics=['accuracy'])\n",
        "model.summary()"
      ]
    },
    {
      "cell_type": "markdown",
      "id": "c2f7266a",
      "metadata": {
        "id": "c2f7266a"
      },
      "source": [
        "## Train the Model"
      ]
    },
    {
      "cell_type": "code",
      "execution_count": null,
      "id": "7c9332cd",
      "metadata": {
        "id": "7c9332cd"
      },
      "outputs": [],
      "source": [
        "early_stop = EarlyStopping(monitor='val_loss', patience=3, restore_best_weights=True)\n",
        "\n",
        "history = model.fit(\n",
        "    train_generator,\n",
        "    validation_data=val_generator,\n",
        "    epochs=3,\n",
        "    class_weight=class_weight_dict,\n",
        "    callbacks=[early_stop]\n",
        ")"
      ]
    },
    {
      "cell_type": "markdown",
      "id": "c4576ba3",
      "metadata": {
        "id": "c4576ba3"
      },
      "source": [
        "## Evaluate the Model"
      ]
    },
    {
      "cell_type": "code",
      "execution_count": null,
      "id": "24b86ee9",
      "metadata": {
        "id": "24b86ee9"
      },
      "outputs": [],
      "source": [
        "# Predict on validation set\n",
        "val_generator.reset()\n",
        "preds = model.predict(val_generator, verbose=0)\n",
        "y_pred = np.argmax(preds, axis=1)\n",
        "y_true = val_generator.classes\n",
        "\n",
        "# Normalize by row (i.e., precision per true class)\n",
        "cm = confusion_matrix(y_true, y_pred, normalize='true')\n",
        "\n",
        "disp = ConfusionMatrixDisplay(confusion_matrix=cm, display_labels=class_names)\n",
        "disp.plot(cmap='Blues', values_format=\".2f\")  # Shows numbers with 2 decimal places\n",
        "plt.title(\"Normalized Confusion Matrix (Row-wise)\")\n",
        "plt.show()"
      ]
    },
    {
      "cell_type": "markdown",
      "id": "7df81e19",
      "metadata": {
        "id": "7df81e19"
      },
      "source": [
        "## Show Sample Predictions"
      ]
    },
    {
      "cell_type": "code",
      "execution_count": null,
      "id": "35ca0bc8",
      "metadata": {
        "id": "35ca0bc8"
      },
      "outputs": [],
      "source": [
        "import random\n",
        "\n",
        "def show_sample_predictions(generator, model, class_names, num_images=10, rows=2, cols=5):\n",
        "    fig, axes = plt.subplots(rows, cols, figsize=(cols * 3, rows * 3))\n",
        "    axes = axes.flatten()\n",
        "\n",
        "    for i in range(num_images):\n",
        "        index = random.randint(0, len(generator.filenames) - 1)\n",
        "        img_path = os.path.join(generator.directory, generator.filenames[index])\n",
        "        img = tf.keras.preprocessing.image.load_img(img_path, target_size=(224, 224))\n",
        "        img_array = tf.keras.preprocessing.image.img_to_array(img) / 255.0\n",
        "        prediction = model.predict(np.expand_dims(img_array, axis=0), verbose=0)\n",
        "        pred_class = class_names[np.argmax(prediction)]\n",
        "        true_class = class_names[generator.classes[index]]\n",
        "\n",
        "        axes[i].imshow(img)\n",
        "        axes[i].set_title(f\"Pred: {pred_class}\\nTrue: {true_class}\", fontsize=10)\n",
        "        axes[i].axis(\"off\")\n",
        "\n",
        "    # Hide any unused axes if num_images < rows*cols\n",
        "    for i in range(num_images, len(axes)):\n",
        "        axes[i].axis(\"off\")\n",
        "\n",
        "    plt.tight_layout()\n",
        "    plt.show()\n",
        "\n",
        "show_sample_predictions(val_generator, model, class_names, num_images=10, rows=2, cols=5)\n"
      ]
    }
  ],
  "metadata": {
    "accelerator": "GPU",
    "colab": {
      "gpuType": "T4",
      "provenance": []
    },
    "kernelspec": {
      "display_name": "py310-env",
      "language": "python",
      "name": "python3"
    },
    "language_info": {
      "name": "python",
      "version": "3.10.15"
    }
  },
  "nbformat": 4,
  "nbformat_minor": 5
}
